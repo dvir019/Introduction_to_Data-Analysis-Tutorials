{
 "cells": [
  {
   "cell_type": "markdown",
   "metadata": {
    "colab_type": "text",
    "id": "49NkayX72Wpn"
   },
   "source": [
    "# <font color=red>Tutorial 9 - K Nearest Neighbors (KNN)</font>"
   ]
  },
  {
   "cell_type": "markdown",
   "metadata": {
    "colab_type": "text",
    "id": "mfYGeELv2Wpp"
   },
   "source": [
    "KNN falls in the supervised learning family of algorithms. This means that we are given a labeled dataset consisting of training observations (x,y) and would like to capture the relationship between x and y, then use this 'knowledge' to classify a new observetion x'. "
   ]
  },
  {
   "cell_type": "code",
   "execution_count": 1,
   "metadata": {
    "colab": {},
    "colab_type": "code",
    "id": "k8wq-44I2Wpr"
   },
   "outputs": [],
   "source": [
    "import numpy as np\n",
    "import pandas as pd"
   ]
  },
  {
   "cell_type": "markdown",
   "metadata": {
    "colab_type": "text",
    "id": "qNncvSWE2Wpy"
   },
   "source": [
    "## Loading scikit-learn dataset into pandas dataframe"
   ]
  },
  {
   "cell_type": "markdown",
   "metadata": {
    "colab_type": "text",
    "id": "LVZZUksn2Wpz"
   },
   "source": [
    "The result of the load_iris() method is a map-like object with four components:\n",
    "* target - 1D numpy array of target attribute value (the labels)\n",
    "* data - 2D numpy array containing the data\n",
    "* feature_names - 1D numpy array containing the feautures' names\n",
    "* DESCR - text description of the dataset<br>\n",
    "So it is easy to convert it to a pandas DataFrame:"
   ]
  },
  {
   "cell_type": "code",
   "execution_count": 2,
   "metadata": {
    "colab": {},
    "colab_type": "code",
    "id": "W0vR3zqx2Wp1",
    "outputId": "61650c32-5b92-4b59-f8a8-24f1096b1e24",
    "scrolled": true
   },
   "outputs": [
    {
     "name": "stdout",
     "output_type": "stream",
     "text": [
      ".. _iris_dataset:\n",
      "\n",
      "Iris plants dataset\n",
      "--------------------\n",
      "\n",
      "**Data Set Characteristics:**\n",
      "\n",
      "    :Number of Instances: 150 (50 in each of three classes)\n",
      "    :Number of Attributes: 4 numeric, predictive attributes and the class\n",
      "    :Attribute Information:\n",
      "        - sepal length in cm\n",
      "        - sepal width in cm\n",
      "        - petal length in cm\n",
      "        - petal width in cm\n",
      "        - class:\n",
      "                - Iris-Setosa\n",
      "                - Iris-Versicolour\n",
      "                - Iris-Virginica\n",
      "                \n",
      "    :Summary Statistics:\n",
      "\n",
      "    ============== ==== ==== ======= ===== ====================\n",
      "                    Min  Max   Mean    SD   Class Correlation\n",
      "    ============== ==== ==== ======= ===== ====================\n",
      "    sepal length:   4.3  7.9   5.84   0.83    0.7826\n",
      "    sepal width:    2.0  4.4   3.05   0.43   -0.4194\n",
      "    petal length:   1.0  6.9   3.76   1.76    0.9490  (high!)\n",
      "    petal width:    0.1  2.5   1.20   0.76    0.9565  (high!)\n",
      "    ============== ==== ==== ======= ===== ====================\n",
      "\n",
      "    :Missing Attribute Values: None\n",
      "    :Class Distribution: 33.3% for each of 3 classes.\n",
      "    :Creator: R.A. Fisher\n",
      "    :Donor: Michael Marshall (MARSHALL%PLU@io.arc.nasa.gov)\n",
      "    :Date: July, 1988\n",
      "\n",
      "The famous Iris database, first used by Sir R.A. Fisher. The dataset is taken\n",
      "from Fisher's paper. Note that it's the same as in R, but not as in the UCI\n",
      "Machine Learning Repository, which has two wrong data points.\n",
      "\n",
      "This is perhaps the best known database to be found in the\n",
      "pattern recognition literature.  Fisher's paper is a classic in the field and\n",
      "is referenced frequently to this day.  (See Duda & Hart, for example.)  The\n",
      "data set contains 3 classes of 50 instances each, where each class refers to a\n",
      "type of iris plant.  One class is linearly separable from the other 2; the\n",
      "latter are NOT linearly separable from each other.\n",
      "\n",
      ".. topic:: References\n",
      "\n",
      "   - Fisher, R.A. \"The use of multiple measurements in taxonomic problems\"\n",
      "     Annual Eugenics, 7, Part II, 179-188 (1936); also in \"Contributions to\n",
      "     Mathematical Statistics\" (John Wiley, NY, 1950).\n",
      "   - Duda, R.O., & Hart, P.E. (1973) Pattern Classification and Scene Analysis.\n",
      "     (Q327.D83) John Wiley & Sons.  ISBN 0-471-22361-1.  See page 218.\n",
      "   - Dasarathy, B.V. (1980) \"Nosing Around the Neighborhood: A New System\n",
      "     Structure and Classification Rule for Recognition in Partially Exposed\n",
      "     Environments\".  IEEE Transactions on Pattern Analysis and Machine\n",
      "     Intelligence, Vol. PAMI-2, No. 1, 67-71.\n",
      "   - Gates, G.W. (1972) \"The Reduced Nearest Neighbor Rule\".  IEEE Transactions\n",
      "     on Information Theory, May 1972, 431-433.\n",
      "   - See also: 1988 MLC Proceedings, 54-64.  Cheeseman et al\"s AUTOCLASS II\n",
      "     conceptual clustering system finds 3 classes in the data.\n",
      "   - Many, many more ...\n"
     ]
    }
   ],
   "source": [
    "from sklearn import neighbors, datasets\n",
    "iris_data = datasets.load_iris()\n",
    "print(iris_data['DESCR'])"
   ]
  },
  {
   "cell_type": "code",
   "execution_count": 3,
   "metadata": {
    "colab": {},
    "colab_type": "code",
    "id": "rsMBr6xx2Wp_",
    "outputId": "2922a547-5005-4490-b6d7-6a6248f82644"
   },
   "outputs": [
    {
     "data": {
      "text/html": [
       "<div>\n",
       "<style scoped>\n",
       "    .dataframe tbody tr th:only-of-type {\n",
       "        vertical-align: middle;\n",
       "    }\n",
       "\n",
       "    .dataframe tbody tr th {\n",
       "        vertical-align: top;\n",
       "    }\n",
       "\n",
       "    .dataframe thead th {\n",
       "        text-align: right;\n",
       "    }\n",
       "</style>\n",
       "<table border=\"1\" class=\"dataframe\">\n",
       "  <thead>\n",
       "    <tr style=\"text-align: right;\">\n",
       "      <th></th>\n",
       "      <th>sepal length (cm)</th>\n",
       "      <th>sepal width (cm)</th>\n",
       "      <th>petal length (cm)</th>\n",
       "      <th>petal width (cm)</th>\n",
       "      <th>class</th>\n",
       "    </tr>\n",
       "  </thead>\n",
       "  <tbody>\n",
       "    <tr>\n",
       "      <th>0</th>\n",
       "      <td>5.1</td>\n",
       "      <td>3.5</td>\n",
       "      <td>1.4</td>\n",
       "      <td>0.2</td>\n",
       "      <td>0</td>\n",
       "    </tr>\n",
       "    <tr>\n",
       "      <th>1</th>\n",
       "      <td>4.9</td>\n",
       "      <td>3.0</td>\n",
       "      <td>1.4</td>\n",
       "      <td>0.2</td>\n",
       "      <td>0</td>\n",
       "    </tr>\n",
       "    <tr>\n",
       "      <th>2</th>\n",
       "      <td>4.7</td>\n",
       "      <td>3.2</td>\n",
       "      <td>1.3</td>\n",
       "      <td>0.2</td>\n",
       "      <td>0</td>\n",
       "    </tr>\n",
       "    <tr>\n",
       "      <th>3</th>\n",
       "      <td>4.6</td>\n",
       "      <td>3.1</td>\n",
       "      <td>1.5</td>\n",
       "      <td>0.2</td>\n",
       "      <td>0</td>\n",
       "    </tr>\n",
       "    <tr>\n",
       "      <th>4</th>\n",
       "      <td>5.0</td>\n",
       "      <td>3.6</td>\n",
       "      <td>1.4</td>\n",
       "      <td>0.2</td>\n",
       "      <td>0</td>\n",
       "    </tr>\n",
       "  </tbody>\n",
       "</table>\n",
       "</div>"
      ],
      "text/plain": [
       "   sepal length (cm)  sepal width (cm)  petal length (cm)  petal width (cm)  \\\n",
       "0                5.1               3.5                1.4               0.2   \n",
       "1                4.9               3.0                1.4               0.2   \n",
       "2                4.7               3.2                1.3               0.2   \n",
       "3                4.6               3.1                1.5               0.2   \n",
       "4                5.0               3.6                1.4               0.2   \n",
       "\n",
       "   class  \n",
       "0      0  \n",
       "1      0  \n",
       "2      0  \n",
       "3      0  \n",
       "4      0  "
      ]
     },
     "execution_count": 3,
     "metadata": {},
     "output_type": "execute_result"
    }
   ],
   "source": [
    "iris_df = pd.DataFrame(iris_data.data, columns=iris_data.feature_names)\n",
    "iris_df['class'] = iris_data.target\n",
    "iris_df.head()"
   ]
  },
  {
   "cell_type": "markdown",
   "metadata": {},
   "source": [
    "### Visualize the data"
   ]
  },
  {
   "cell_type": "code",
   "execution_count": 5,
   "metadata": {},
   "outputs": [
    {
     "data": {
      "text/plain": [
       "Text(0.5, 1.0, 'Petal Length vs Petal Width')"
      ]
     },
     "execution_count": 5,
     "metadata": {},
     "output_type": "execute_result"
    },
    {
     "data": {
      "image/png": "[encoded data removed]",
      "text/plain": [
       "<Figure size 864x360 with 2 Axes>"
      ]
     },
     "metadata": {
      "needs_background": "light"
     },
     "output_type": "display_data"
    }
   ],
   "source": [
    "import matplotlib.pyplot as plt\n",
    "%matplotlib inline\n",
    "\n",
    "plt.figure(figsize=(12,5)) # initialize 12x5 size figure\n",
    "colors = np.array(['red', 'green', 'blue']) # create color map, color for each iris type\n",
    "\n",
    "plt.subplot(1, 2, 1)\n",
    "plt.scatter(iris_df['sepal length (cm)'], iris_df['sepal width (cm)'], c=colors[iris_data.target])\n",
    "plt.xlabel('Length (cm)')\n",
    "plt.ylabel('Width (cm)')\n",
    "plt.title('Sepal Length vs Sepal Width')\n",
    "\n",
    "plt.subplot(1, 2, 2)\n",
    "plt.scatter(iris_df['petal length (cm)'], iris_df['petal width (cm)'], c= colors[iris_data.target])\n",
    "plt.xlabel('Length (cm)')\n",
    "plt.ylabel('Width (cm)')\n",
    "plt.title('Petal Length vs Petal Width')"
   ]
  },
  {
   "cell_type": "markdown",
   "metadata": {
    "colab_type": "text",
    "id": "F0iuec-12WqG"
   },
   "source": [
    "## Preprocessing"
   ]
  },
  {
   "cell_type": "markdown",
   "metadata": {
    "colab_type": "text",
    "id": "l9qsMa3g2WqI"
   },
   "source": [
    "The next step is to split our dataset into its features and labels. The X variable contains the first four columns of the dataset (i.e. features) while y contains the labels."
   ]
  },
  {
   "cell_type": "code",
   "execution_count": 6,
   "metadata": {
    "colab": {},
    "colab_type": "code",
    "id": "Ep-nxfS32WqJ"
   },
   "outputs": [],
   "source": [
    "X = iris_df.iloc[:, :-1].values # features\n",
    "Y = iris_df.iloc[:, 4].values # labels"
   ]
  },
  {
   "cell_type": "markdown",
   "metadata": {
    "colab_type": "text",
    "id": "sl5qTFlB2WqO"
   },
   "source": [
    "## Train Test Split"
   ]
  },
  {
   "cell_type": "markdown",
   "metadata": {
    "colab_type": "text",
    "id": "4FwsBFTd2WqP"
   },
   "source": [
    "We will divide our dataset into train set and test set. \n",
    "\n",
    "The model will learn using the train set and will be evaluated by predicting the test set.\n",
    "\n",
    "we will use the **train_test_split()** to split the data into train and test:"
   ]
  },
  {
   "cell_type": "code",
   "execution_count": 7,
   "metadata": {
    "colab": {},
    "colab_type": "code",
    "id": "eGB8txZt2WqR"
   },
   "outputs": [],
   "source": [
    "from sklearn.model_selection import train_test_split\n",
    "# train_test_split?"
   ]
  },
  {
   "cell_type": "markdown",
   "metadata": {
    "colab_type": "text",
    "id": "Y0X44MWi2WqW"
   },
   "source": [
    "The following code splits the dataset into 80% train data and 20% test data. \n",
    "\n",
    "This means that out of total 150 records, the training set will contain 120 records and the test set contains 30 of those records:"
   ]
  },
  {
   "cell_type": "code",
   "execution_count": 8,
   "metadata": {
    "colab": {},
    "colab_type": "code",
    "id": "YymUWkAK2WqX",
    "outputId": "baac8bd8-9e32-4829-e9af-6cccf3ad88f8"
   },
   "outputs": [
    {
     "name": "stdout",
     "output_type": "stream",
     "text": [
      "X train set size: (120, 4)\n",
      "X_test set size: (30, 4)\n",
      "Y_train set size: (120,)\n",
      "Y_test set size: (30,)\n"
     ]
    }
   ],
   "source": [
    "X_train, X_test, Y_train, Y_test = train_test_split(X, Y, test_size=0.20)  \n",
    "print('X train set size: ' + str(X_train.shape))\n",
    "print('X_test set size: ' + str(X_test.shape))\n",
    "print('Y_train set size: ' + str(Y_train.shape))\n",
    "print('Y_test set size: ' + str(Y_test.shape))"
   ]
  },
  {
   "cell_type": "markdown",
   "metadata": {
    "colab_type": "text",
    "id": "cr6TSz1K2Wqf"
   },
   "source": [
    "- The train set contains 120 observations:\n",
    "    - The are 4 featues in the 'X_train' parameter.\n",
    "    - The label are in the 'Y_train' parameter. There is one column of label.\n",
    "- The test set contains 30 observations with 1 label.\n",
    "    - The are 4 featues in the 'X_test' parameter.\n",
    "    - The label are in the 'Y_test' parameter. There is one column of label."
   ]
  },
  {
   "cell_type": "markdown",
   "metadata": {
    "colab_type": "text",
    "id": "OyfMwT9g2Wqg"
   },
   "source": [
    "## Training and Predictions"
   ]
  },
  {
   "cell_type": "markdown",
   "metadata": {
    "colab_type": "text",
    "id": "zBlaKZHP2Wqi"
   },
   "source": [
    "* The first step is to import the KNeighborsClassifier class from the sklearn.neighbors library. \n",
    "* In the second line, this class is initialized with one parameter, i.e. n_neigbours. This is basically the value for the K. \n",
    "* There is no ideal value for K and it is selected after testing and evaluation, however to start out, 5 seems to be the most commonly used value for KNN algorithm."
   ]
  },
  {
   "cell_type": "code",
   "execution_count": 9,
   "metadata": {
    "colab": {},
    "colab_type": "code",
    "id": "i5eubhg-2Wqj"
   },
   "outputs": [],
   "source": [
    "from sklearn.neighbors import KNeighborsClassifier\n",
    "classifier = KNeighborsClassifier(n_neighbors=5) # K=5"
   ]
  },
  {
   "cell_type": "markdown",
   "metadata": {
    "colab_type": "text",
    "id": "3cjdSxz52Wqo"
   },
   "source": [
    "To train our model, we will use the fit() method:"
   ]
  },
  {
   "cell_type": "code",
   "execution_count": 10,
   "metadata": {
    "colab": {},
    "colab_type": "code",
    "id": "pq0_kqQP2Wqp",
    "outputId": "eeccd8a3-1be6-426c-9357-1f1bac59b989"
   },
   "outputs": [
    {
     "data": {
      "text/plain": [
       "KNeighborsClassifier(algorithm='auto', leaf_size=30, metric='minkowski',\n",
       "                     metric_params=None, n_jobs=None, n_neighbors=5, p=2,\n",
       "                     weights='uniform')"
      ]
     },
     "execution_count": 10,
     "metadata": {},
     "output_type": "execute_result"
    }
   ],
   "source": [
    "classifier.fit(X_train, Y_train)"
   ]
  },
  {
   "cell_type": "markdown",
   "metadata": {
    "colab_type": "text",
    "id": "t4TCT3as2Wqv"
   },
   "source": [
    "The final step is to make predictions on our test data (X_test):"
   ]
  },
  {
   "cell_type": "code",
   "execution_count": 21,
   "metadata": {
    "colab": {},
    "colab_type": "code",
    "id": "Dz5uydgO2Wqx"
   },
   "outputs": [],
   "source": [
    "Y_pred = classifier.predict(X_test)"
   ]
  },
  {
   "cell_type": "markdown",
   "metadata": {
    "colab_type": "text",
    "id": "9QkNBQb32Wq2"
   },
   "source": [
    "For each observation in the test set the classifier predict a label. (0 or 1 or 2) \n",
    "\n",
    "So, in total there are 30 predicted values:"
   ]
  },
  {
   "cell_type": "code",
   "execution_count": 22,
   "metadata": {
    "colab": {},
    "colab_type": "code",
    "id": "rQ41_hL82Wq4",
    "outputId": "a6367e85-e274-4bbd-fcf9-c4646001d8b2"
   },
   "outputs": [
    {
     "data": {
      "text/plain": [
       "array([0, 1, 0, 1, 2, 0, 2, 0, 1, 1, 1, 1, 1, 1, 1, 0, 2, 1, 0, 2, 1, 0,\n",
       "       0, 1, 0, 0, 1, 1, 0, 1])"
      ]
     },
     "execution_count": 22,
     "metadata": {},
     "output_type": "execute_result"
    }
   ],
   "source": [
    "Y_pred"
   ]
  },
  {
   "cell_type": "markdown",
   "metadata": {
    "colab_type": "text",
    "id": "8hczjpMo2Wq_"
   },
   "source": [
    "## Evaluating the Algorithm"
   ]
  },
  {
   "cell_type": "markdown",
   "metadata": {
    "colab_type": "text",
    "id": "aByw1Y222WrA"
   },
   "source": [
    "For the evaluation step we will compare the values of the prediction and real values in the data:"
   ]
  },
  {
   "cell_type": "code",
   "execution_count": 23,
   "metadata": {
    "colab": {},
    "colab_type": "code",
    "id": "4dmPVqXd2WrC",
    "outputId": "245f7302-e041-4a19-f388-06eb6a3de516",
    "scrolled": true
   },
   "outputs": [
    {
     "name": "stdout",
     "output_type": "stream",
     "text": [
      "The values of the predictions according to the classifier:\n",
      "Class 0 contains 11 observations\n",
      "Class 1 contains 15 observations\n",
      "Class 2 contains 4 observations\n"
     ]
    }
   ],
   "source": [
    "# Explore the real results in Y_test\n",
    "unique, counts = np.unique(Y_test, return_counts=True)\n",
    "print(\"The values of the predictions according to the classifier:\")\n",
    "for class_value, num_in_class in zip(unique, counts):\n",
    "    print (\"Class \" + str(class_value) + \" contains \" + str(num_in_class) + \" observations\")"
   ]
  },
  {
   "cell_type": "code",
   "execution_count": 24,
   "metadata": {
    "colab": {},
    "colab_type": "code",
    "id": "Ei7j1UO52WrN",
    "outputId": "f6678000-ae7a-4e47-bad9-3a3c8984c6a8"
   },
   "outputs": [
    {
     "name": "stdout",
     "output_type": "stream",
     "text": [
      "The values of the observations according to the data:\n",
      "Class 0 contains 11 observations\n",
      "Class 1 contains 15 observations\n",
      "Class 2 contains 4 observations\n"
     ]
    }
   ],
   "source": [
    "# Explore the predicted results in Y_pred\n",
    "unique, counts = np.unique(Y_pred, return_counts=True)\n",
    "print(\"The values of the observations according to the data:\")\n",
    "for class_value, num_in_class in zip(unique, counts):\n",
    "    print (\"Class \" + str(class_value) + \" contains \" + str(num_in_class) + \" observations\")"
   ]
  },
  {
   "cell_type": "markdown",
   "metadata": {
    "colab_type": "text",
    "id": "02p1pT_S2Wrc"
   },
   "source": [
    "Therefore, in order to check how many predictions got the real value we will compare between them:"
   ]
  },
  {
   "cell_type": "code",
   "execution_count": 25,
   "metadata": {
    "colab": {},
    "colab_type": "code",
    "id": "bMq2joBF2Wrf",
    "outputId": "8d232768-551d-4da5-8de0-8977b54d3eb6"
   },
   "outputs": [
    {
     "name": "stdout",
     "output_type": "stream",
     "text": [
      "The accuracy of the classifier is: 1.0\n"
     ]
    }
   ],
   "source": [
    "total_observations = len(Y_test)\n",
    "total_matches = 0\n",
    "for pred_value, real_value in zip(Y_pred, Y_test):\n",
    "    if pred_value == real_value:\n",
    "        total_matches += 1\n",
    "        \n",
    "print (\"The accuracy of the classifier is: \" + str(total_matches/total_observations))"
   ]
  },
  {
   "cell_type": "markdown",
   "metadata": {
    "colab_type": "text",
    "id": "F3qAVrfz2Wsj"
   },
   "source": [
    "There is a function that calculate the accuracy of the classifier, so there is no need to do all the steps above:\n",
    "\n",
    "The **score(X,Y)** method returns the **accuracy** of classifier.predict(X) comparing it to the given Y. In our case we would like to run prediction on the set of features X_test and compare the results to Y_test"
   ]
  },
  {
   "cell_type": "code",
   "execution_count": 26,
   "metadata": {
    "colab": {},
    "colab_type": "code",
    "id": "x1Puy-eZ2Wsn",
    "outputId": "02ef367e-f3ce-4b46-d539-75f1d179344e"
   },
   "outputs": [
    {
     "data": {
      "text/plain": [
       "1.0"
      ]
     },
     "execution_count": 26,
     "metadata": {},
     "output_type": "execute_result"
    }
   ],
   "source": [
    "classifier.score(X_test, Y_test)"
   ]
  },
  {
   "cell_type": "markdown",
   "metadata": {
    "colab_type": "text",
    "id": "_kcU6DFe2WtG"
   },
   "source": [
    "## <font color=blue>**Exercise**</font>"
   ]
  },
  {
   "cell_type": "markdown",
   "metadata": {
    "colab_type": "text",
    "id": "P9qpIB0p2WtU"
   },
   "source": [
    "1. Repeat the classification process with K=10. Did you different results?\n",
    "2. Repeat the classification process with different size of train-test sets (try 50-50), how does it affects the results?"
   ]
  },
  {
   "cell_type": "code",
   "execution_count": 35,
   "metadata": {
    "colab": {},
    "colab_type": "code",
    "id": "o4akPXTr2WtY"
   },
   "outputs": [
    {
     "data": {
      "text/plain": [
       "1.0"
      ]
     },
     "execution_count": 35,
     "metadata": {},
     "output_type": "execute_result"
    }
   ],
   "source": [
    "# Q1\n",
    "classifier = KNeighborsClassifier(n_neighbors=10) # K=10\n",
    "classifier.fit(X_train, Y_train)\n",
    "Y_pred = classifier.predict(X_test)\n",
    "classifier.score(X_test, Y_test)"
   ]
  },
  {
   "cell_type": "markdown",
   "metadata": {
    "colab_type": "text",
    "id": "RfcSFeve2Wtk"
   },
   "source": [
    "If the number of neighbors is identical to number of groups, we can get to a situation where there is no majority and then the labeling will be random - 'results will depend on the ordering of the training data'"
   ]
  },
  {
   "cell_type": "code",
   "execution_count": 45,
   "metadata": {
    "colab": {},
    "colab_type": "code",
    "id": "Axr_00o22Wtn"
   },
   "outputs": [
    {
     "name": "stdout",
     "output_type": "stream",
     "text": [
      "X train set size: (120, 4)\n",
      "X_test set size: (30, 4)\n",
      "Y_train set size: (120,)\n",
      "Y_test set size: (30,)\n",
      "The values of the observations according to the data:\n",
      "Class 0 contains 12 observations\n",
      "Class 1 contains 8 observations\n",
      "Class 2 contains 10 observations\n"
     ]
    },
    {
     "data": {
      "text/plain": [
       "1.0"
      ]
     },
     "execution_count": 45,
     "metadata": {},
     "output_type": "execute_result"
    }
   ],
   "source": [
    "# Q2\n",
    "X_train, X_test, Y_train, Y_test = train_test_split(X, Y, test_size=0.20)  \n",
    "print('X train set size: ' + str(X_train.shape))\n",
    "print('X_test set size: ' + str(X_test.shape))\n",
    "print('Y_train set size: ' + str(Y_train.shape))\n",
    "print('Y_test set size: ' + str(Y_test.shape))\n",
    "\n",
    "\n",
    "# Explore the predicted results in Y_pred\n",
    "unique, counts = np.unique(Y_pred, return_counts=True)\n",
    "print(\"The values of the observations according to the data:\")\n",
    "for class_value, num_in_class in zip(unique, counts):\n",
    "    print (\"Class \" + str(class_value) + \" contains \" + str(num_in_class) + \" observations\")\n",
    "    \n",
    "classifier = KNeighborsClassifier(n_neighbors=5) # K=10\n",
    "classifier.fit(X_train, Y_train)\n",
    "Y_pred = classifier.predict(X_test)\n",
    "classifier.score(X_test, Y_test)"
   ]
  },
  {
   "cell_type": "markdown",
   "metadata": {},
   "source": [
    "3. In the following example we have an 'easy' classification task. We got the following dataset in which each animal who has wings is also a bird, but it contains only 2 animals who have wings.\n",
    "- Train a KNN classifier on the given data\n",
    "- Test your trained classifier on the given 'test_sample' - contains one animal without wings ('0'), and one with wings ('1').\n",
    "- Is the classifier working properly? if not, explain why and suggest adjusments to make it work properly"
   ]
  },
  {
   "cell_type": "code",
   "execution_count": 50,
   "metadata": {},
   "outputs": [],
   "source": [
    "has_wings = np.zeros(100, dtype='int')\n",
    "has_wings[0:2] = [1, 1]\n",
    "\n",
    "df = pd.DataFrame(has_wings, columns=['has_wings'])\n",
    "df['is_bird'] = df['has_wings'].apply(lambda x: 1 if x > 0 else 0)\n",
    "df.head(10)\n",
    "\n",
    "# preprocessing for training\n",
    "X = df[['has_wings']] # feature\n",
    "Y = df['is_bird'] # label\n",
    "test_sample = pd.DataFrame({'has_wings' : [0, 1]}) # test"
   ]
  },
  {
   "cell_type": "code",
   "execution_count": 48,
   "metadata": {},
   "outputs": [],
   "source": [
    "# Q3\n"
   ]
  }
 ],
 "metadata": {
  "colab": {
   "name": "08_KNN.ipynb",
   "provenance": [],
   "version": "0.3.2"
  },
  "kernelspec": {
   "display_name": "Python 3",
   "language": "python",
   "name": "python3"
  },
  "language_info": {
   "codemirror_mode": {
    "name": "ipython",
    "version": 3
   },
   "file_extension": ".py",
   "mimetype": "text/x-python",
   "name": "python",
   "nbconvert_exporter": "python",
   "pygments_lexer": "ipython3",
   "version": "3.7.6"
  }
 },
 "nbformat": 4,
 "nbformat_minor": 4
}
