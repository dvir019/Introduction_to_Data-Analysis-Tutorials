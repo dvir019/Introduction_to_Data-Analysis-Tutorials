{
 "cells": [
  {
   "cell_type": "markdown",
   "metadata": {},
   "source": [
    "# <font color=red>Tutorial 7 - Hypotheses testing</font>"
   ]
  },
  {
   "cell_type": "code",
   "execution_count": null,
   "metadata": {},
   "outputs": [],
   "source": [
    "import pandas as pd\n",
    "import seaborn as sns\n",
    "import numpy as np\n",
    "import matplotlib.pyplot as plt"
   ]
  },
  {
   "cell_type": "markdown",
   "metadata": {},
   "source": [
    "## Monty cheating?\n",
    "\n",
    "As we already saw, in the (3-door) Monty Hall Game, there's a 2/3 probability that a switch will result in a car. \n",
    "\n",
    "However, this probability holds only under the assumptions of the assumed model. One of these assumptions, for example, is that after the contestant chooses whether or not to switch his or her selection to the unopen door, nobody in the production side intervenes with whatever is behind the chosen door. \n",
    "\n",
    "Let's say you suspect Monty and the production company are cheating and that in fact the probability of winning the car after switching is lower than 2/3.\n",
    "\n",
    "1. Clearly state the two hypotheses."
   ]
  },
  {
   "cell_type": "markdown",
   "metadata": {},
   "source": [
    "H0: The probability of winning the car after switching is 2/3 <br>\n",
    "H1: The probability of winning the car after switching is lower than 2/3"
   ]
  },
  {
   "cell_type": "markdown",
   "metadata": {},
   "source": [
    "You collect data on 84 shows in which a contestant decided to switch to the unopened door and write down what was behind the door to which the contestant switched in each such show. True records show that in 45 of the 84 shows, there was a car behind that door, and in the rest of the shows there was a goat.\n",
    "\n",
    "2. What is your test statisic? Run a simulation and plot the empirical distribution of this statistic"
   ]
  },
  {
   "cell_type": "code",
   "execution_count": null,
   "metadata": {},
   "outputs": [],
   "source": [
    "behind_door = ['car', 'goat'] # possible items behind door to which the contestant switches\n",
    "prob_for_item = [2/3, 1/3] # probabilities GIVEN THE MODEL IS TRUE\n",
    "sample_size = 84 # number of shows sampled\n",
    "number_of_wins_from_real_data = 45 # Number of wins observed in 84 shows\n",
    "\n",
    "# simulate one value\n",
    "def prob_win_car():\n",
    "    sample_shows = np.random.choice(behind_door, p=prob_for_item, size=sample_size)\n",
    "    num_cars = np.count_nonzero(sample_shows == 'car')\n",
    "    return num_cars/sample_size\n",
    "\n",
    "# run multiple simulations\n",
    "num_repetitions = 20000\n",
    "many_prob_win_car = np.empty(num_repetitions) # collection array\n",
    "for i in range(num_repetitions):\n",
    "    many_prob_win_car[i] = prob_win_car()\n",
    "\n",
    "# plot the empirical distribution of the statistic\n",
    "ax = sns.distplot(many_prob_win_car, kde=False, norm_hist=True)\n",
    "ax.set(xlabel='probability to win car', ylabel='relative proportion in simulations (%)')"
   ]
  },
  {
   "cell_type": "markdown",
   "metadata": {},
   "source": [
    "3. Replot the the figure above, this time marking also the test statitsic"
   ]
  },
  {
   "cell_type": "code",
   "execution_count": null,
   "metadata": {},
   "outputs": [],
   "source": [
    "prob_win_in_data = number_of_wins_from_real_data/sample_size\n",
    "\n",
    "# plot the empirical distribution of the statistic\n",
    "ax = sns.distplot(many_prob_win_car, kde=False, norm_hist=True)\n",
    "ax.set(xlabel='probability to win car', ylabel='relative proportion in simulations (%)')\n",
    "# Add a red point on the plot marking our data\n",
    "plt.scatter(prob_win_in_data, 0, marker='o', s=30, color='red')  # draw observed value"
   ]
  },
  {
   "cell_type": "markdown",
   "metadata": {},
   "source": [
    "4. What is the *p*-value of your test?"
   ]
  },
  {
   "cell_type": "code",
   "execution_count": null,
   "metadata": {},
   "outputs": [],
   "source": [
    "num_simulations_like_data_or_more_extreme = np.count_nonzero(many_prob_win_car <= prob_win_in_data) \n",
    "print ('The p-value is', num_simulations_like_data_or_more_extreme/num_repetitions)"
   ]
  },
  {
   "cell_type": "markdown",
   "metadata": {},
   "source": [
    "5. What is your conclusion?"
   ]
  },
  {
   "cell_type": "markdown",
   "metadata": {},
   "source": [
    "We got p<0.05, which means that the result in our data (the red point: 45/84) is part of the 5% tail of the empirical distribution. Therefore, assuming significance level of 0.05, we will reject the null hypothesis. That is, we can reject the hypothesis that the probability of winning the car after a switch is 2/3. It may be true that Monty is cheating according the results we got (but it can happen from other reasons too).  "
   ]
  },
  {
   "cell_type": "markdown",
   "metadata": {},
   "source": [
    "## <font color=blue> **Exercise** </font>\n",
    "## Contestants biased?"
   ]
  },
  {
   "cell_type": "markdown",
   "metadata": {},
   "source": [
    "Let's now say that after watching many shows to collect your data, you start to notice that on average, on their first pick, contestants do not seem to choose randomly between the three doors (they seem to choose the middle door less). Specifically, in the 84 shows you recorded, contestants chose the left door (door A) 32 times, the middle door (door B) 22 times, and the left door (door C) 30 times. So you have decided to investigate if it is indeed a random pick based on the second door. \n",
    "\n",
    "1. Clearly state the two hypotheses"
   ]
  },
  {
   "cell_type": "markdown",
   "metadata": {},
   "source": []
  },
  {
   "cell_type": "markdown",
   "metadata": {},
   "source": [
    "2. What is your test statistic? \n"
   ]
  },
  {
   "cell_type": "markdown",
   "metadata": {},
   "source": []
  },
  {
   "cell_type": "markdown",
   "metadata": {},
   "source": [
    "3. Run a simulation and plot the empirical distribution of this statistic, and mark the outcome of the statistic in your data on the plot"
   ]
  },
  {
   "cell_type": "code",
   "execution_count": null,
   "metadata": {},
   "outputs": [],
   "source": [
    "# write your code here\n"
   ]
  },
  {
   "cell_type": "markdown",
   "metadata": {},
   "source": [
    "4. What is the *p*-value? "
   ]
  },
  {
   "cell_type": "code",
   "execution_count": null,
   "metadata": {},
   "outputs": [],
   "source": [
    "# write your code here\n"
   ]
  },
  {
   "cell_type": "markdown",
   "metadata": {},
   "source": [
    "5. What is your conclusion?"
   ]
  },
  {
   "cell_type": "markdown",
   "metadata": {},
   "source": []
  }
 ],
 "metadata": {
  "kernelspec": {
   "display_name": "Python 3",
   "language": "python",
   "name": "python3"
  },
  "language_info": {
   "codemirror_mode": {
    "name": "ipython",
    "version": 3
   },
   "file_extension": ".py",
   "mimetype": "text/x-python",
   "name": "python",
   "nbconvert_exporter": "python",
   "pygments_lexer": "ipython3",
   "version": "3.7.6"
  }
 },
 "nbformat": 4,
 "nbformat_minor": 4
}
